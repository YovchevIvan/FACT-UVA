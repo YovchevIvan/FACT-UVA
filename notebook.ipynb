{
 "cells": [
  {
   "cell_type": "markdown",
   "metadata": {},
   "source": [
    "# FACT-UVA: Man is to Programmer as Woman is to Homemaker?"
   ]
  },
  {
   "cell_type": "markdown",
   "metadata": {},
   "source": [
    "## Links\n",
    "\n",
    "Debiaswe: https://github.com/tolga-b/debiaswe\n",
    "Lipstick: https://github.com/gonenhila/gender_bias_lipstick"
   ]
  },
  {
   "cell_type": "markdown",
   "metadata": {},
   "source": [
    "### How to get the GoogleNews word2vec embeddings:\n",
    "Download it directly from the official [website](https://code.google.com/archive/p/word2vec/) or clone [this github repo](https://github.com/mmihaltz/word2vec-GoogleNews-vectors). Place the downloaded **.bin** file in the embeddings folder."
   ]
  },
  {
   "cell_type": "markdown",
   "metadata": {},
   "source": [
    "### How to get the Glove embeddings:\n",
    "Go to the official [website](https://nlp.stanford.edu/projects/glove/). Download **glove.840B.300d.zip**. Place the downloaded **.txt** file in the embeddings folder."
   ]
  },
  {
   "cell_type": "markdown",
   "metadata": {},
   "source": [
    "## Debiasing Word Embeddings"
   ]
  },
  {
   "cell_type": "markdown",
   "metadata": {},
   "source": [
    "### Word2vec\n",
    "\n",
    "The code block bellow executes the main debias function using the word2vec Google News embeddings. Additionally, the function takes as arugments several json files with definitional pairs and geneder specific words as described in the original paper. The function outputs two files - **bias_word2vec.bin** and **debiased_word2vec.bin**, which correspond to the embeddings before and after debiasing. One of the input JSON files is also a list of professions. Setting the parameter **--load_profs** to True replicates Figure 3 from the original paper, i.e. prints the top 5 professions furthest away from the default softball-football axis when projected onto said axis both before and after debiasing."
   ]
  },
  {
   "cell_type": "code",
   "execution_count": 1,
   "metadata": {},
   "outputs": [
    {
     "name": "stdout",
     "output_type": "stream",
     "text": [
      "*** Reading data from ../embeddings/GoogleNews-vectors-negative300.bin\n",
      "Number of words:  26391\n",
      "Saving biased vectors to file...\n",
      "\n",
      "\u001b[1m\u001b[31m   Before debiasing\u001b[0m\n",
      "   \u001b[1m\u001b[94msoftball extreme        \tfootball extreme\u001b[0m\n",
      "\u001b[1m1.\u001b[0m bookkeeper             \tfootballer\n",
      "\u001b[1m2.\u001b[0m receptionist           \tbusinessman\n",
      "\u001b[1m3.\u001b[0m registered_nurse       \tpundit\n",
      "\u001b[1m4.\u001b[0m waitress               \tmaestro\n",
      "\u001b[1m5.\u001b[0m homemaker              \tcleric\n",
      "\n",
      "\n",
      "Debiasing...\n",
      "Saving debiased vectors to file...\n",
      "\n",
      "\u001b[1m\u001b[92m   After debiasing\u001b[0m\n",
      "   \u001b[1m\u001b[94msoftball extreme        \tfootball extreme\u001b[0m\n",
      "\u001b[1m1.\u001b[0m infielder              \tfootballer\n",
      "\u001b[1m2.\u001b[0m major_leaguer          \tlecturer\n",
      "\u001b[1m3.\u001b[0m investigator           \tpundit\n",
      "\u001b[1m4.\u001b[0m attorney               \tmidfielder\n",
      "\u001b[1m5.\u001b[0m trooper                \tfashion_designer\n",
      "\n",
      "\n",
      "Done!\n",
      "\n"
     ]
    }
   ],
   "source": [
    "# Debias word2vec embeddings\n",
    "!cd code && python3 main.py --debias_o_em=../embeddings/debiased_word2vec.bin --bias_o_em=../embeddings/bias_word2vec.bin --load_profs=True"
   ]
  },
  {
   "cell_type": "markdown",
   "metadata": {},
   "source": [
    "### Glove\n",
    "\n",
    "The only difference between the two formats (word2vec and glove) is that the first line of word2vec contains the number of words and the vector size, while glove does no contain said line. In order to simplify things and reduce the lenght of the code we can convert one of the two to the other format. This way the code has to supoort only one format. The code block below converts the glove embeddings to the word2vec fromat (**May take some time**). Said code block needs to be executed only once."
   ]
  },
  {
   "cell_type": "code",
   "execution_count": 2,
   "metadata": {},
   "outputs": [
    {
     "name": "stdout",
     "output_type": "stream",
     "text": [
      "extracting number of vectors\n",
      "there are 2196017 lines\n",
      "extracting vector dimension\n",
      "cat: write error: Broken pipe\n",
      "vectors have size 300\n",
      "creating word2vec format file\n",
      "done\n"
     ]
    }
   ],
   "source": [
    "# convert glove to word2vec format\n",
    "!cd code/scripts && ./gloveToW2V.sh ../../embeddings/glove.840B.300d.txt ../../embeddings/glove.formatted.txt"
   ]
  },
  {
   "cell_type": "markdown",
   "metadata": {},
   "source": [
    "After transforming the glove embeddings to the word2vec format we can rerun the previous experiment this time using the glove embeddings. The function will generate two files again - **bias_glove.bin** and **debiased_glove.bin** respectfully."
   ]
  },
  {
   "cell_type": "code",
   "execution_count": 3,
   "metadata": {
    "scrolled": true
   },
   "outputs": [
    {
     "name": "stdout",
     "output_type": "stream",
     "text": [
      "*** Reading data from ../embeddings/glove.formatted.txt\n",
      "Number of words:  23177\n",
      "Saving biased vectors to file...\n",
      "\n",
      "\u001b[1m\u001b[31m   Before debiasing\u001b[0m\n",
      "   \u001b[1m\u001b[94msoftball extreme        \tfootball extreme\u001b[0m\n",
      "\u001b[1m1.\u001b[0m counselor              \tfootballer\n",
      "\u001b[1m2.\u001b[0m paralegal              \tboss\n",
      "\u001b[1m3.\u001b[0m nurse                  \tpolitician\n",
      "\u001b[1m4.\u001b[0m realtor                \tcoach\n",
      "\u001b[1m5.\u001b[0m ranger                 \tmidfielder\n",
      "\n",
      "\n",
      "Debiasing...\n",
      "Saving debiased vectors to file...\n",
      "\n",
      "\u001b[1m\u001b[92m   After debiasing\u001b[0m\n",
      "   \u001b[1m\u001b[94msoftball extreme        \tfootball extreme\u001b[0m\n",
      "\u001b[1m1.\u001b[0m ranger                 \tfootballer\n",
      "\u001b[1m2.\u001b[0m warden                 \tboss\n",
      "\u001b[1m3.\u001b[0m counselor              \tpolitician\n",
      "\u001b[1m4.\u001b[0m superintendent         \tcoach\n",
      "\u001b[1m5.\u001b[0m trooper                \tsubstitute\n",
      "\n",
      "\n",
      "Done!\n",
      "\n"
     ]
    }
   ],
   "source": [
    "# Debias glove embeddings\n",
    "!cd code && python3 main.py --i_em=../embeddings/glove.formatted.txt --debias_o_em=../embeddings/debiased_glove.bin --bias_o_em=../embeddings/bias_glove.bin --load_profs=True"
   ]
  },
  {
   "cell_type": "markdown",
   "metadata": {},
   "source": [
    "## Benchmark debiased embeddings\n",
    "\n",
    "After generating the 4 embeddings files (both biased and debiased for word2vec and glove) we can run the benchmark tests on them to determine if the removing of the biased led to any deterioration. The results from the benchmarks would also show if the results have been replicated using the glove embeddings. The code block bellow evaluates each of the 4 embeddings on all of the benchmark test"
   ]
  },
  {
   "cell_type": "code",
   "execution_count": 4,
   "metadata": {
    "collapsed": true,
    "jupyter": {
     "outputs_hidden": true
    }
   },
   "outputs": [
    {
     "name": "stdout",
     "output_type": "stream",
     "text": [
      "05:09:39 INFO:loading projection weights from /mnt/windows_drive_d/Amsterdam University/Year_1/FACT/embeddings/bias_word2vec.bin\n",
      "05:09:39 INFO:Loading #26391 words with 300 dim\n",
      "05:09:39 INFO:Transformed 26391 into 26391 words\n",
      "05:09:39 INFO:Calculating similarity benchmarks\n",
      "05:09:40 WARNING:Missing 528 words. Will replace them with mean vector\n",
      "05:09:40 INFO:Spearman correlation of scores on MEN 0.70422556229531\n",
      "05:09:40 WARNING:Missing 12 words. Will replace them with mean vector\n",
      "05:09:40 INFO:Spearman correlation of scores on RG65 0.6937745222655595\n",
      "05:09:40 WARNING:Missing 105 words. Will replace them with mean vector\n",
      "05:09:40 INFO:Spearman correlation of scores on MTurk 0.513563416944097\n",
      "05:09:40 WARNING:Missing 23 words. Will replace them with mean vector\n",
      "05:09:40 INFO:Spearman correlation of scores on WS353R 0.5805558093795756\n",
      "05:09:40 WARNING:Missing 41 words. Will replace them with mean vector\n",
      "05:09:40 INFO:Spearman correlation of scores on WS353 0.648789965551893\n",
      "05:09:40 WARNING:Missing 17 words. Will replace them with mean vector\n",
      "05:09:40 INFO:Spearman correlation of scores on SimLex999 0.43510114901981567\n",
      "05:09:40 WARNING:Missing 25 words. Will replace them with mean vector\n",
      "05:09:40 INFO:Spearman correlation of scores on WS353S 0.7194734400410802\n",
      "05:09:40 WARNING:Missing 1924 words. Will replace them with mean vector\n",
      "05:09:40 INFO:Spearman correlation of scores on RW 0.27660233342160423\n",
      "05:09:40 INFO:Calculating analogy benchmarks\n",
      "05:09:41 WARNING:Missing 29945 words. Will replace them with mean vector\n",
      "05:09:41 INFO:Processing 1/196 batch\n",
      "05:09:42 INFO:Processing 20/196 batch\n",
      "05:09:43 INFO:Processing 39/196 batch\n",
      "05:09:44 INFO:Processing 58/196 batch\n",
      "05:09:45 INFO:Processing 77/196 batch\n",
      "05:09:45 INFO:Processing 96/196 batch\n",
      "05:09:46 INFO:Processing 115/196 batch\n",
      "05:09:47 INFO:Processing 134/196 batch\n",
      "05:09:48 INFO:Processing 153/196 batch\n",
      "05:09:49 INFO:Processing 172/196 batch\n",
      "05:09:51 INFO:Processing 191/196 batch\n",
      "05:09:51 INFO:Analogy prediction accuracy on Google 0.3340667212443717\n",
      "05:09:51 WARNING:Missing 2171 words. Will replace them with mean vector\n",
      "05:09:51 INFO:Processing 1/80 batch\n",
      "05:09:52 INFO:Processing 9/80 batch\n",
      "05:09:52 INFO:Processing 17/80 batch\n",
      "05:09:53 INFO:Processing 25/80 batch\n",
      "05:09:53 INFO:Processing 33/80 batch\n",
      "05:09:53 INFO:Processing 41/80 batch\n",
      "05:09:54 INFO:Processing 49/80 batch\n",
      "05:09:54 INFO:Processing 57/80 batch\n",
      "05:09:55 INFO:Processing 65/80 batch\n",
      "05:09:55 INFO:Processing 73/80 batch\n",
      "05:09:55 INFO:Analogy prediction accuracy on MSR 0.56975\n",
      "/home/yovchev/miniconda3/envs/test/lib/python3.5/site-packages/scipy/stats/stats.py:245: RuntimeWarning: The input array could not be properly checked for nan values. nan values will be ignored.\n",
      "  \"values. nan values will be ignored.\", RuntimeWarning)\n",
      "05:09:56 INFO:Analogy prediction accuracy on SemEval2012 0.2020581170673025\n",
      "05:09:56 INFO:Calculating categorization benchmarks\n",
      "05:09:57 DEBUG:Purity=0.557 using affinity=euclidean linkage=ward\n",
      "05:09:57 DEBUG:Purity=0.356 using affinity=cosine linkage=average\n",
      "05:09:57 DEBUG:Purity=0.435 using affinity=cosine linkage=complete\n",
      "05:09:57 DEBUG:Purity=0.164 using affinity=euclidean linkage=average\n",
      "05:09:57 DEBUG:Purity=0.435 using affinity=euclidean linkage=complete\n",
      "05:09:57 DEBUG:Purity=0.391 using KMeans\n",
      "05:09:57 INFO:Cluster purity on AP 0.5572139303482587\n",
      "05:09:57 DEBUG:Purity=0.670 using affinity=euclidean linkage=ward\n",
      "05:09:57 DEBUG:Purity=0.515 using affinity=cosine linkage=average\n",
      "05:09:57 DEBUG:Purity=0.600 using affinity=cosine linkage=complete\n",
      "05:09:57 DEBUG:Purity=0.385 using affinity=euclidean linkage=average\n",
      "05:09:57 DEBUG:Purity=0.600 using affinity=euclidean linkage=complete\n",
      "05:09:57 DEBUG:Purity=0.545 using KMeans\n",
      "05:09:57 INFO:Cluster purity on BLESS 0.67\n",
      "05:10:01 DEBUG:Purity=0.236 using affinity=euclidean linkage=ward\n",
      "05:10:04 DEBUG:Purity=0.115 using affinity=cosine linkage=average\n",
      "05:10:08 DEBUG:Purity=0.207 using affinity=cosine linkage=complete\n",
      "05:10:11 DEBUG:Purity=0.071 using affinity=euclidean linkage=average\n",
      "05:10:15 DEBUG:Purity=0.205 using affinity=euclidean linkage=complete\n",
      "05:10:19 DEBUG:Purity=0.218 using KMeans\n",
      "05:10:19 INFO:Cluster purity on Battig 0.23551902121965207\n",
      "05:10:19 DEBUG:Purity=0.600 using affinity=euclidean linkage=ward\n",
      "05:10:19 DEBUG:Purity=0.444 using affinity=cosine linkage=average\n",
      "05:10:19 DEBUG:Purity=0.644 using affinity=cosine linkage=complete\n",
      "05:10:19 DEBUG:Purity=0.444 using affinity=euclidean linkage=average\n",
      "05:10:19 DEBUG:Purity=0.644 using affinity=euclidean linkage=complete\n",
      "05:10:19 DEBUG:Purity=0.533 using KMeans\n",
      "05:10:19 INFO:Cluster purity on ESSLI_2c 0.6444444444444445\n",
      "05:10:19 DEBUG:Purity=0.750 using affinity=euclidean linkage=ward\n",
      "05:10:19 DEBUG:Purity=0.800 using affinity=cosine linkage=average\n",
      "05:10:19 DEBUG:Purity=0.450 using affinity=cosine linkage=complete\n",
      "05:10:19 DEBUG:Purity=0.800 using affinity=euclidean linkage=average\n",
      "05:10:19 DEBUG:Purity=0.450 using affinity=euclidean linkage=complete\n",
      "05:10:19 DEBUG:Purity=0.750 using KMeans\n",
      "05:10:19 INFO:Cluster purity on ESSLI_2b 0.8\n",
      "05:10:19 DEBUG:Purity=0.727 using affinity=euclidean linkage=ward\n",
      "05:10:19 DEBUG:Purity=0.727 using affinity=cosine linkage=average\n",
      "05:10:19 DEBUG:Purity=0.682 using affinity=cosine linkage=complete\n",
      "05:10:19 DEBUG:Purity=0.727 using affinity=euclidean linkage=average\n",
      "05:10:19 DEBUG:Purity=0.705 using affinity=euclidean linkage=complete\n",
      "05:10:19 DEBUG:Purity=0.659 using KMeans\n",
      "05:10:19 INFO:Cluster purity on ESSLI_1a 0.7272727272727273\n",
      "05:10:19 INFO:Saving results...\n",
      "         AP  BLESS    Battig      ...          Google      MSR  SemEval2012_2\n",
      "0  0.557214   0.67  0.235519      ...        0.334067  0.56975       0.202058\n",
      "\n",
      "[1 rows x 17 columns]\n",
      "05:10:22 INFO:loading projection weights from /mnt/windows_drive_d/Amsterdam University/Year_1/FACT/embeddings/debiased_word2vec.bin\n",
      "05:10:22 INFO:Loading #26391 words with 300 dim\n",
      "05:10:22 INFO:Transformed 26391 into 26391 words\n",
      "05:10:22 INFO:Calculating similarity benchmarks\n",
      "05:10:22 WARNING:Missing 12 words. Will replace them with mean vector\n",
      "05:10:22 INFO:Spearman correlation of scores on RG65 0.7046147491759589\n",
      "05:10:22 WARNING:Missing 25 words. Will replace them with mean vector\n",
      "05:10:22 INFO:Spearman correlation of scores on WS353S 0.7124601238272882\n",
      "05:10:22 WARNING:Missing 528 words. Will replace them with mean vector\n",
      "05:10:23 INFO:Spearman correlation of scores on MEN 0.7077541976601638\n",
      "05:10:23 WARNING:Missing 17 words. Will replace them with mean vector\n",
      "05:10:23 INFO:Spearman correlation of scores on SimLex999 0.4480034414806835\n",
      "05:10:23 WARNING:Missing 1924 words. Will replace them with mean vector\n",
      "05:10:23 INFO:Spearman correlation of scores on RW 0.2890410995657426\n",
      "05:10:23 WARNING:Missing 105 words. Will replace them with mean vector\n",
      "05:10:23 INFO:Spearman correlation of scores on MTurk 0.5120809029294382\n",
      "05:10:23 WARNING:Missing 41 words. Will replace them with mean vector\n",
      "05:10:23 INFO:Spearman correlation of scores on WS353 0.6416866226249716\n",
      "05:10:23 WARNING:Missing 23 words. Will replace them with mean vector\n",
      "05:10:23 INFO:Spearman correlation of scores on WS353R 0.5721581368182123\n",
      "05:10:23 INFO:Calculating analogy benchmarks\n",
      "05:10:23 WARNING:Missing 29945 words. Will replace them with mean vector\n",
      "05:10:23 INFO:Processing 1/196 batch\n",
      "05:10:24 INFO:Processing 20/196 batch\n",
      "05:10:25 INFO:Processing 39/196 batch\n",
      "05:10:26 INFO:Processing 58/196 batch\n",
      "05:10:27 INFO:Processing 77/196 batch\n",
      "05:10:28 INFO:Processing 96/196 batch\n",
      "05:10:30 INFO:Processing 115/196 batch\n",
      "05:10:32 INFO:Processing 134/196 batch\n",
      "05:10:33 INFO:Processing 153/196 batch\n",
      "05:10:34 INFO:Processing 172/196 batch\n",
      "05:10:36 INFO:Processing 191/196 batch\n",
      "05:10:36 INFO:Analogy prediction accuracy on Google 0.32915472779369626\n",
      "05:10:36 WARNING:Missing 2171 words. Will replace them with mean vector\n",
      "05:10:36 INFO:Processing 1/80 batch\n",
      "05:10:37 INFO:Processing 9/80 batch\n",
      "05:10:37 INFO:Processing 17/80 batch\n",
      "05:10:38 INFO:Processing 25/80 batch\n",
      "05:10:38 INFO:Processing 33/80 batch\n",
      "05:10:39 INFO:Processing 41/80 batch\n",
      "05:10:39 INFO:Processing 49/80 batch\n",
      "05:10:40 INFO:Processing 57/80 batch\n",
      "05:10:40 INFO:Processing 65/80 batch\n",
      "05:10:41 INFO:Processing 73/80 batch\n",
      "05:10:41 INFO:Analogy prediction accuracy on MSR 0.56875\n",
      "/home/yovchev/miniconda3/envs/test/lib/python3.5/site-packages/scipy/stats/stats.py:245: RuntimeWarning: The input array could not be properly checked for nan values. nan values will be ignored.\n",
      "  \"values. nan values will be ignored.\", RuntimeWarning)\n",
      "05:10:41 INFO:Analogy prediction accuracy on SemEval2012 0.20394809691025484\n",
      "05:10:41 INFO:Calculating categorization benchmarks\n",
      "05:10:42 DEBUG:Purity=0.622 using affinity=euclidean linkage=ward\n",
      "05:10:42 DEBUG:Purity=0.533 using affinity=cosine linkage=average\n",
      "05:10:42 DEBUG:Purity=0.622 using affinity=cosine linkage=complete\n",
      "05:10:42 DEBUG:Purity=0.533 using affinity=euclidean linkage=average\n",
      "05:10:42 DEBUG:Purity=0.622 using affinity=euclidean linkage=complete\n",
      "05:10:42 DEBUG:Purity=0.644 using KMeans\n",
      "05:10:42 INFO:Cluster purity on ESSLI_2c 0.6444444444444445\n",
      "05:10:42 DEBUG:Purity=0.535 using affinity=euclidean linkage=ward\n",
      "05:10:42 DEBUG:Purity=0.326 using affinity=cosine linkage=average\n",
      "05:10:42 DEBUG:Purity=0.480 using affinity=cosine linkage=complete\n",
      "05:10:42 DEBUG:Purity=0.162 using affinity=euclidean linkage=average\n",
      "05:10:42 DEBUG:Purity=0.480 using affinity=euclidean linkage=complete\n",
      "05:10:42 DEBUG:Purity=0.410 using KMeans\n",
      "05:10:42 INFO:Cluster purity on AP 0.5348258706467661\n",
      "05:10:42 DEBUG:Purity=0.670 using affinity=euclidean linkage=ward\n",
      "05:10:42 DEBUG:Purity=0.540 using affinity=cosine linkage=average\n",
      "05:10:42 DEBUG:Purity=0.630 using affinity=cosine linkage=complete\n",
      "05:10:42 DEBUG:Purity=0.375 using affinity=euclidean linkage=average\n",
      "05:10:42 DEBUG:Purity=0.630 using affinity=euclidean linkage=complete\n",
      "05:10:42 DEBUG:Purity=0.595 using KMeans\n",
      "05:10:42 INFO:Cluster purity on BLESS 0.67\n",
      "05:10:42 DEBUG:Purity=0.750 using affinity=euclidean linkage=ward\n",
      "05:10:42 DEBUG:Purity=0.775 using affinity=cosine linkage=average\n",
      "05:10:42 DEBUG:Purity=0.675 using affinity=cosine linkage=complete\n",
      "05:10:42 DEBUG:Purity=0.775 using affinity=euclidean linkage=average\n",
      "05:10:42 DEBUG:Purity=0.675 using affinity=euclidean linkage=complete\n",
      "05:10:42 DEBUG:Purity=0.750 using KMeans\n",
      "05:10:42 INFO:Cluster purity on ESSLI_2b 0.775\n",
      "05:10:42 DEBUG:Purity=0.818 using affinity=euclidean linkage=ward\n",
      "05:10:42 DEBUG:Purity=0.614 using affinity=cosine linkage=average\n",
      "05:10:42 DEBUG:Purity=0.727 using affinity=cosine linkage=complete\n",
      "05:10:42 DEBUG:Purity=0.727 using affinity=euclidean linkage=average\n",
      "05:10:42 DEBUG:Purity=0.727 using affinity=euclidean linkage=complete\n",
      "05:10:43 DEBUG:Purity=0.773 using KMeans\n",
      "05:10:43 INFO:Cluster purity on ESSLI_1a 0.8181818181818182\n",
      "05:10:46 DEBUG:Purity=0.236 using affinity=euclidean linkage=ward\n",
      "05:10:49 DEBUG:Purity=0.110 using affinity=cosine linkage=average\n",
      "05:10:53 DEBUG:Purity=0.208 using affinity=cosine linkage=complete\n",
      "05:10:56 DEBUG:Purity=0.074 using affinity=euclidean linkage=average\n",
      "05:10:59 DEBUG:Purity=0.208 using affinity=euclidean linkage=complete\n",
      "05:11:03 DEBUG:Purity=0.215 using KMeans\n",
      "05:11:03 INFO:Cluster purity on Battig 0.23571018925635634\n",
      "05:11:03 INFO:Saving results...\n",
      "         AP  BLESS   Battig      ...          Google      MSR  SemEval2012_2\n",
      "0  0.534826   0.67  0.23571      ...        0.329155  0.56875       0.203948\n",
      "\n",
      "[1 rows x 17 columns]\n",
      "05:11:04 INFO:loading projection weights from /mnt/windows_drive_d/Amsterdam University/Year_1/FACT/embeddings/bias_glove.bin\n",
      "05:11:04 INFO:Loading #23177 words with 300 dim\n",
      "05:11:05 INFO:Transformed 23177 into 23177 words\n",
      "05:11:05 INFO:Calculating similarity benchmarks\n",
      "05:11:05 WARNING:Missing 21 words. Will replace them with mean vector\n",
      "05:11:05 INFO:Spearman correlation of scores on WS353R 0.656220602117019\n",
      "05:11:05 WARNING:Missing 232 words. Will replace them with mean vector\n",
      "05:11:05 INFO:Spearman correlation of scores on MEN 0.7640203999117314\n",
      "05:11:05 WARNING:Missing 1952 words. Will replace them with mean vector\n",
      "05:11:05 INFO:Spearman correlation of scores on RW 0.17728901900305735\n",
      "05:11:05 WARNING:Missing 60 words. Will replace them with mean vector\n",
      "05:11:05 INFO:Spearman correlation of scores on MTurk 0.6403831293505392\n",
      "05:11:05 WARNING:Missing 37 words. Will replace them with mean vector\n",
      "05:11:05 INFO:Spearman correlation of scores on WS353 0.6976501269372408\n",
      "05:11:05 WARNING:Missing 20 words. Will replace them with mean vector\n",
      "05:11:05 INFO:Spearman correlation of scores on WS353S 0.7656929744062716\n",
      "05:11:05 WARNING:Missing 12 words. Will replace them with mean vector\n",
      "05:11:05 INFO:Spearman correlation of scores on SimLex999 0.3984030932203347\n",
      "05:11:05 WARNING:Missing 4 words. Will replace them with mean vector\n",
      "05:11:05 INFO:Spearman correlation of scores on RG65 0.7519751760203851\n",
      "05:11:05 INFO:Calculating analogy benchmarks\n",
      "05:11:05 WARNING:Missing 2723 words. Will replace them with mean vector\n",
      "05:11:05 INFO:Processing 1/80 batch\n",
      "05:11:06 INFO:Processing 9/80 batch\n",
      "05:11:06 INFO:Processing 17/80 batch\n",
      "05:11:07 INFO:Processing 25/80 batch\n",
      "05:11:07 INFO:Processing 33/80 batch\n",
      "05:11:08 INFO:Processing 41/80 batch\n",
      "05:11:08 INFO:Processing 49/80 batch\n",
      "05:11:09 INFO:Processing 57/80 batch\n",
      "05:11:09 INFO:Processing 65/80 batch\n",
      "05:11:09 INFO:Processing 73/80 batch\n",
      "05:11:10 INFO:Analogy prediction accuracy on MSR 0.550125\n",
      "05:11:10 WARNING:Missing 21265 words. Will replace them with mean vector\n",
      "05:11:10 INFO:Processing 1/196 batch\n",
      "05:11:11 INFO:Processing 20/196 batch\n",
      "05:11:12 INFO:Processing 39/196 batch\n",
      "05:11:13 INFO:Processing 58/196 batch\n",
      "05:11:14 INFO:Processing 77/196 batch\n",
      "05:11:15 INFO:Processing 96/196 batch\n",
      "05:11:16 INFO:Processing 115/196 batch\n",
      "05:11:17 INFO:Processing 134/196 batch\n",
      "05:11:18 INFO:Processing 153/196 batch\n",
      "05:11:19 INFO:Processing 172/196 batch\n",
      "05:11:20 INFO:Processing 191/196 batch\n",
      "05:11:21 INFO:Analogy prediction accuracy on Google 0.3861543184609087\n",
      "/home/yovchev/miniconda3/envs/test/lib/python3.5/site-packages/scipy/stats/stats.py:245: RuntimeWarning: The input array could not be properly checked for nan values. nan values will be ignored.\n",
      "  \"values. nan values will be ignored.\", RuntimeWarning)\n",
      "05:11:21 INFO:Analogy prediction accuracy on SemEval2012 0.18309742020111255\n",
      "05:11:21 INFO:Calculating categorization benchmarks\n",
      "05:11:21 DEBUG:Purity=0.727 using affinity=euclidean linkage=ward\n",
      "05:11:21 DEBUG:Purity=0.614 using affinity=cosine linkage=average\n",
      "05:11:21 DEBUG:Purity=0.727 using affinity=cosine linkage=complete\n",
      "05:11:21 DEBUG:Purity=0.614 using affinity=euclidean linkage=average\n",
      "05:11:21 DEBUG:Purity=0.727 using affinity=euclidean linkage=complete\n",
      "05:11:21 DEBUG:Purity=0.795 using KMeans\n",
      "05:11:21 INFO:Cluster purity on ESSLI_1a 0.7954545454545455\n",
      "05:11:21 DEBUG:Purity=0.622 using affinity=euclidean linkage=ward\n",
      "05:11:21 DEBUG:Purity=0.533 using affinity=cosine linkage=average\n",
      "05:11:21 DEBUG:Purity=0.556 using affinity=cosine linkage=complete\n",
      "05:11:21 DEBUG:Purity=0.533 using affinity=euclidean linkage=average\n",
      "05:11:21 DEBUG:Purity=0.556 using affinity=euclidean linkage=complete\n",
      "05:11:21 DEBUG:Purity=0.556 using KMeans\n",
      "05:11:21 INFO:Cluster purity on ESSLI_2c 0.6222222222222222\n",
      "05:11:21 DEBUG:Purity=0.750 using affinity=euclidean linkage=ward\n",
      "05:11:21 DEBUG:Purity=0.750 using affinity=cosine linkage=average\n",
      "05:11:21 DEBUG:Purity=0.750 using affinity=cosine linkage=complete\n",
      "05:11:21 DEBUG:Purity=0.750 using affinity=euclidean linkage=average\n",
      "05:11:21 DEBUG:Purity=0.750 using affinity=euclidean linkage=complete\n",
      "05:11:21 DEBUG:Purity=0.700 using KMeans\n",
      "05:11:21 INFO:Cluster purity on ESSLI_2b 0.75\n",
      "05:11:26 DEBUG:Purity=0.272 using affinity=euclidean linkage=ward\n",
      "05:11:29 DEBUG:Purity=0.163 using affinity=cosine linkage=average\n",
      "05:11:33 DEBUG:Purity=0.214 using affinity=cosine linkage=complete\n",
      "05:11:36 DEBUG:Purity=0.087 using affinity=euclidean linkage=average\n",
      "05:11:39 DEBUG:Purity=0.214 using affinity=euclidean linkage=complete\n",
      "05:11:44 DEBUG:Purity=0.270 using KMeans\n",
      "05:11:44 INFO:Cluster purity on Battig 0.2720321162301663\n",
      "05:11:44 DEBUG:Purity=0.532 using affinity=euclidean linkage=ward\n",
      "05:11:44 DEBUG:Purity=0.311 using affinity=cosine linkage=average\n",
      "05:11:44 DEBUG:Purity=0.468 using affinity=cosine linkage=complete\n",
      "05:11:44 DEBUG:Purity=0.256 using affinity=euclidean linkage=average\n",
      "05:11:44 DEBUG:Purity=0.468 using affinity=euclidean linkage=complete\n",
      "05:11:44 DEBUG:Purity=0.450 using KMeans\n",
      "05:11:44 INFO:Cluster purity on AP 0.5323383084577115\n",
      "05:11:45 DEBUG:Purity=0.755 using affinity=euclidean linkage=ward\n",
      "05:11:45 DEBUG:Purity=0.605 using affinity=cosine linkage=average\n",
      "05:11:45 DEBUG:Purity=0.670 using affinity=cosine linkage=complete\n",
      "05:11:45 DEBUG:Purity=0.600 using affinity=euclidean linkage=average\n",
      "05:11:45 DEBUG:Purity=0.660 using affinity=euclidean linkage=complete\n",
      "05:11:45 DEBUG:Purity=0.680 using KMeans\n",
      "05:11:45 INFO:Cluster purity on BLESS 0.755\n",
      "05:11:45 INFO:Saving results...\n",
      "         AP  BLESS    Battig      ...          Google       MSR  SemEval2012_2\n",
      "0  0.532338  0.755  0.272032      ...        0.386154  0.550125       0.183097\n",
      "\n",
      "[1 rows x 17 columns]\n",
      "05:11:46 INFO:loading projection weights from /mnt/windows_drive_d/Amsterdam University/Year_1/FACT/embeddings/debiased_glove.bin\n",
      "05:11:46 INFO:Loading #23177 words with 300 dim\n",
      "05:11:46 INFO:Transformed 23177 into 23177 words\n",
      "05:11:46 INFO:Calculating similarity benchmarks\n",
      "05:11:46 WARNING:Missing 21 words. Will replace them with mean vector\n",
      "05:11:46 INFO:Spearman correlation of scores on WS353R 0.6487291761974038\n",
      "05:11:46 WARNING:Missing 4 words. Will replace them with mean vector\n",
      "05:11:46 INFO:Spearman correlation of scores on RG65 0.7548600751175075\n",
      "05:11:46 WARNING:Missing 60 words. Will replace them with mean vector\n",
      "05:11:46 INFO:Spearman correlation of scores on MTurk 0.6340952140445683\n",
      "05:11:46 WARNING:Missing 20 words. Will replace them with mean vector\n",
      "05:11:46 INFO:Spearman correlation of scores on WS353S 0.7580545901055459\n",
      "05:11:46 WARNING:Missing 37 words. Will replace them with mean vector\n",
      "05:11:46 INFO:Spearman correlation of scores on WS353 0.6916061618239052\n",
      "05:11:46 WARNING:Missing 12 words. Will replace them with mean vector\n",
      "05:11:46 INFO:Spearman correlation of scores on SimLex999 0.41997161782906944\n",
      "05:11:46 WARNING:Missing 232 words. Will replace them with mean vector\n",
      "05:11:46 INFO:Spearman correlation of scores on MEN 0.774167835020656\n",
      "05:11:46 WARNING:Missing 1952 words. Will replace them with mean vector\n",
      "05:11:46 INFO:Spearman correlation of scores on RW 0.1820966071828552\n",
      "05:11:46 INFO:Calculating analogy benchmarks\n",
      "05:11:47 WARNING:Missing 2723 words. Will replace them with mean vector\n",
      "05:11:47 INFO:Processing 1/80 batch\n",
      "05:11:47 INFO:Processing 9/80 batch\n",
      "05:11:48 INFO:Processing 17/80 batch\n",
      "05:11:48 INFO:Processing 25/80 batch\n",
      "05:11:48 INFO:Processing 33/80 batch\n",
      "05:11:49 INFO:Processing 41/80 batch\n",
      "05:11:49 INFO:Processing 49/80 batch\n",
      "05:11:50 INFO:Processing 57/80 batch\n",
      "05:11:50 INFO:Processing 65/80 batch\n",
      "05:11:51 INFO:Processing 73/80 batch\n",
      "05:11:51 INFO:Analogy prediction accuracy on MSR 0.551125\n",
      "05:11:51 WARNING:Missing 21265 words. Will replace them with mean vector\n",
      "05:11:51 INFO:Processing 1/196 batch\n",
      "05:11:53 INFO:Processing 20/196 batch\n",
      "05:11:54 INFO:Processing 39/196 batch\n",
      "05:11:55 INFO:Processing 58/196 batch\n",
      "05:11:57 INFO:Processing 77/196 batch\n",
      "05:11:59 INFO:Processing 96/196 batch\n",
      "05:12:00 INFO:Processing 115/196 batch\n",
      "05:12:01 INFO:Processing 134/196 batch\n",
      "05:12:02 INFO:Processing 153/196 batch\n",
      "05:12:04 INFO:Processing 172/196 batch\n",
      "05:12:05 INFO:Processing 191/196 batch\n",
      "05:12:06 INFO:Analogy prediction accuracy on Google 0.38211215718379044\n",
      "/home/yovchev/miniconda3/envs/test/lib/python3.5/site-packages/scipy/stats/stats.py:245: RuntimeWarning: The input array could not be properly checked for nan values. nan values will be ignored.\n",
      "  \"values. nan values will be ignored.\", RuntimeWarning)\n",
      "05:12:06 INFO:Analogy prediction accuracy on SemEval2012 0.1871657357848747\n",
      "05:12:06 INFO:Calculating categorization benchmarks\n",
      "05:12:06 DEBUG:Purity=0.727 using affinity=euclidean linkage=ward\n",
      "05:12:06 DEBUG:Purity=0.614 using affinity=cosine linkage=average\n",
      "05:12:06 DEBUG:Purity=0.705 using affinity=cosine linkage=complete\n",
      "05:12:06 DEBUG:Purity=0.614 using affinity=euclidean linkage=average\n",
      "05:12:06 DEBUG:Purity=0.705 using affinity=euclidean linkage=complete\n",
      "05:12:06 DEBUG:Purity=0.750 using KMeans\n",
      "05:12:06 INFO:Cluster purity on ESSLI_1a 0.75\n",
      "05:12:06 DEBUG:Purity=0.622 using affinity=euclidean linkage=ward\n",
      "05:12:06 DEBUG:Purity=0.467 using affinity=cosine linkage=average\n",
      "05:12:06 DEBUG:Purity=0.533 using affinity=cosine linkage=complete\n",
      "05:12:06 DEBUG:Purity=0.467 using affinity=euclidean linkage=average\n",
      "05:12:06 DEBUG:Purity=0.533 using affinity=euclidean linkage=complete\n",
      "05:12:06 DEBUG:Purity=0.556 using KMeans\n",
      "05:12:06 INFO:Cluster purity on ESSLI_2c 0.6222222222222222\n",
      "05:12:06 DEBUG:Purity=0.730 using affinity=euclidean linkage=ward\n",
      "05:12:06 DEBUG:Purity=0.610 using affinity=cosine linkage=average\n",
      "05:12:06 DEBUG:Purity=0.635 using affinity=cosine linkage=complete\n",
      "05:12:06 DEBUG:Purity=0.600 using affinity=euclidean linkage=average\n",
      "05:12:06 DEBUG:Purity=0.625 using affinity=euclidean linkage=complete\n",
      "05:12:06 DEBUG:Purity=0.685 using KMeans\n",
      "05:12:06 INFO:Cluster purity on BLESS 0.73\n",
      "05:12:06 DEBUG:Purity=0.540 using affinity=euclidean linkage=ward\n",
      "05:12:06 DEBUG:Purity=0.388 using affinity=cosine linkage=average\n",
      "05:12:06 DEBUG:Purity=0.488 using affinity=cosine linkage=complete\n",
      "05:12:06 DEBUG:Purity=0.281 using affinity=euclidean linkage=average\n",
      "05:12:06 DEBUG:Purity=0.488 using affinity=euclidean linkage=complete\n",
      "05:12:07 DEBUG:Purity=0.425 using KMeans\n",
      "05:12:07 INFO:Cluster purity on AP 0.5398009950248757\n",
      "05:12:07 DEBUG:Purity=0.750 using affinity=euclidean linkage=ward\n",
      "05:12:07 DEBUG:Purity=0.750 using affinity=cosine linkage=average\n",
      "05:12:07 DEBUG:Purity=0.750 using affinity=cosine linkage=complete\n",
      "05:12:07 DEBUG:Purity=0.750 using affinity=euclidean linkage=average\n",
      "05:12:07 DEBUG:Purity=0.750 using affinity=euclidean linkage=complete\n",
      "05:12:07 DEBUG:Purity=0.750 using KMeans\n",
      "05:12:07 INFO:Cluster purity on ESSLI_2b 0.75\n",
      "05:12:10 DEBUG:Purity=0.263 using affinity=euclidean linkage=ward\n",
      "05:12:14 DEBUG:Purity=0.161 using affinity=cosine linkage=average\n",
      "05:12:18 DEBUG:Purity=0.226 using affinity=cosine linkage=complete\n",
      "05:12:21 DEBUG:Purity=0.090 using affinity=euclidean linkage=average\n",
      "05:12:24 DEBUG:Purity=0.225 using affinity=euclidean linkage=complete\n",
      "05:12:29 DEBUG:Purity=0.270 using KMeans\n",
      "05:12:29 INFO:Cluster purity on Battig 0.2695469317530109\n",
      "05:12:29 INFO:Saving results...\n",
      "         AP  BLESS    Battig      ...          Google       MSR  SemEval2012_2\n",
      "0  0.539801   0.73  0.269547      ...        0.382112  0.551125       0.187166\n",
      "\n",
      "[1 rows x 17 columns]\n"
     ]
    }
   ],
   "source": [
    "!cd code/benchmark/scripts/ && ./run_test.sh"
   ]
  },
  {
   "cell_type": "code",
   "execution_count": 6,
   "metadata": {},
   "outputs": [
    {
     "name": "stdout",
     "output_type": "stream",
     "text": [
      "Name             bias_word2vec    debiased_word2vec    bias_glove    debiased_glove     VARIANCE\n",
      "-------------  ---------------  -------------------  ------------  ----------------  -----------\n",
      "AP                    0.557214             0.534826      0.532338          0.539801  0.000125822\n",
      "BLESS                 0.67                 0.67          0.755             0.73      0.00185625\n",
      "Battig                0.235519             0.23571       0.272032          0.269547  0.00041346\n",
      "ESSLI_1a              0.727273             0.818182      0.795455          0.75      0.00172176\n",
      "ESSLI_2b              0.8                  0.775         0.75              0.75      0.000572917\n",
      "ESSLI_2c              0.644444             0.644444      0.622222          0.622222  0.000164609\n",
      "MEN                   0.704226             0.707754      0.76402           0.774168  0.00134662\n",
      "MTurk                 0.513563             0.512081      0.640383          0.634095  0.00516682\n",
      "RG65                  0.693775             0.704615      0.751975          0.75486   0.00100102\n",
      "RW                    0.276602             0.289041      0.177289          0.182097  0.00357483\n",
      "SimLex999             0.435101             0.448003      0.398403          0.419972  0.000454442\n",
      "WS353                 0.64879              0.641687      0.69765           0.691606  0.000827617\n",
      "WS353R                0.580556             0.572158      0.656221          0.648729  0.00195242\n",
      "WS353S                0.719473             0.71246       0.765693          0.758055  0.000720406\n",
      "Google                0.334067             0.329155      0.386154          0.382112  0.000926283\n",
      "MSR                   0.56975              0.56875       0.550125          0.551125  0.000115964\n",
      "SemEval2012_2         0.202058             0.203948      0.183097          0.187166  0.000109818\n"
     ]
    }
   ],
   "source": [
    "# show results\n",
    "import csv\n",
    "from tabulate import tabulate\n",
    "from statistics import variance as var\n",
    "\n",
    "def show_benchmarks(file):\n",
    "    with open(file, 'r') as f:\n",
    "        rows = list(csv.reader(f))[:-1]\n",
    "        rows = [list(x) for x in zip(*rows)]\n",
    "        \n",
    "    rows[0].append('VARIANCE')\n",
    "    for row in rows[1:]:\n",
    "        vals = [float(x) for x in row[1:]]\n",
    "        row.append(var(vals))\n",
    "        \n",
    "    print(tabulate(rows[1:], headers=rows[0]))\n",
    "    \n",
    "show_benchmarks('./code/benchmark/scripts/result.csv')"
   ]
  },
  {
   "cell_type": "markdown",
   "metadata": {},
   "source": [
    "## Generating analogies\n",
    "\n",
    "Once we have tested that the main properties of the embeddings are still in the debiased ones, then we can generate `he:she = x:y` analogies, and observe the resulting `x:y`  pairs."
   ]
  },
  {
   "cell_type": "markdown",
   "metadata": {},
   "source": [
    "### Defining list of x for `he:she = x:y` analogies\n",
    "We will now define a list of third words `x` such that they can be used to find a fourth one `y` by completing the analogy `he:she = x:y` "
   ]
  },
  {
   "cell_type": "code",
   "execution_count": 8,
   "metadata": {},
   "outputs": [],
   "source": [
    "import json\n",
    "\n",
    "words = [\n",
    "    \"footbaler\",\n",
    "    \"programmer\",\n",
    "    \"soldier\",\n",
    "    \"professor\",\n",
    "    \"doctor\",\n",
    "    \"captain\",\n",
    "    \"coach\"\n",
    "]\n",
    "\n",
    "with open('./code/analogies/z_words.json', 'w') as f:\n",
    "    json.dump(words, f)"
   ]
  },
  {
   "cell_type": "markdown",
   "metadata": {},
   "source": [
    "### Analogies for original word2vec"
   ]
  },
  {
   "cell_type": "code",
   "execution_count": 9,
   "metadata": {},
   "outputs": [
    {
     "name": "stdout",
     "output_type": "stream",
     "text": [
      "/home/yovchev/miniconda3/envs/test/lib/python3.5/site-packages/smart_open/smart_open_lib.py:402: UserWarning: This function is deprecated, use smart_open.open instead. See the migration notes for details: https://github.com/RaRe-Technologies/smart_open/blob/master/README.rst#migrating-to-the-new-open-function\n",
      "  'See the migration notes for details: %s' % _MIGRATION_NOTES_URL\n",
      "analogies.py:109: RuntimeWarning: invalid value encountered in true_divide\n",
      "  analogies_dir = analogies/norms[:, None] # Directions\n",
      "\u001b[1m\u001b[94mhe\u001b[0m is to \u001b[1m\u001b[94mshe\u001b[0m like \u001b[1m\u001b[92mprogrammer\u001b[0m is to \u001b[1m\u001b[92mgraphic_designer\u001b[0m\n",
      "\u001b[1m\u001b[94mhe\u001b[0m is to \u001b[1m\u001b[94mshe\u001b[0m like \u001b[1m\u001b[92msoldier\u001b[0m is to \u001b[1m\u001b[92mservicemen\u001b[0m\n",
      "\u001b[1m\u001b[94mhe\u001b[0m is to \u001b[1m\u001b[94mshe\u001b[0m like \u001b[1m\u001b[92mprofessor\u001b[0m is to \u001b[1m\u001b[92massistant_professor\u001b[0m\n",
      "\u001b[1m\u001b[94mhe\u001b[0m is to \u001b[1m\u001b[94mshe\u001b[0m like \u001b[1m\u001b[92mdoctor\u001b[0m is to \u001b[1m\u001b[92mnurse\u001b[0m\n",
      "\u001b[1m\u001b[94mhe\u001b[0m is to \u001b[1m\u001b[94mshe\u001b[0m like \u001b[1m\u001b[92mcaptain\u001b[0m is to \u001b[1m\u001b[92mcaptains\u001b[0m\n",
      "\u001b[1m\u001b[94mhe\u001b[0m is to \u001b[1m\u001b[94mshe\u001b[0m like \u001b[1m\u001b[92mcoach\u001b[0m is to \u001b[1m\u001b[92mbasketball\u001b[0m\n",
      "\n",
      "\u001b[1m\n",
      "Sorting...\u001b[0m\n"
     ]
    }
   ],
   "source": [
    "!cd ./code/analogies/ && python3 analogies.py --pairs_fname pairs_bias_word2vec.txt --i_em ../../embeddings/bias_word2vec.bin --pair_seed he-she --z_file z_words.json"
   ]
  },
  {
   "cell_type": "markdown",
   "metadata": {},
   "source": [
    "### Analogies for Debiased word2vec"
   ]
  },
  {
   "cell_type": "code",
   "execution_count": 10,
   "metadata": {},
   "outputs": [
    {
     "name": "stdout",
     "output_type": "stream",
     "text": [
      "/home/yovchev/miniconda3/envs/test/lib/python3.5/site-packages/smart_open/smart_open_lib.py:402: UserWarning: This function is deprecated, use smart_open.open instead. See the migration notes for details: https://github.com/RaRe-Technologies/smart_open/blob/master/README.rst#migrating-to-the-new-open-function\n",
      "  'See the migration notes for details: %s' % _MIGRATION_NOTES_URL\n",
      "analogies.py:109: RuntimeWarning: invalid value encountered in true_divide\n",
      "  analogies_dir = analogies/norms[:, None] # Directions\n",
      "\u001b[1m\u001b[94mhe\u001b[0m is to \u001b[1m\u001b[94mshe\u001b[0m like \u001b[1m\u001b[92mprogrammer\u001b[0m is to \u001b[1m\u001b[92mgraphic_designer\u001b[0m\n",
      "\u001b[1m\u001b[94mhe\u001b[0m is to \u001b[1m\u001b[94mshe\u001b[0m like \u001b[1m\u001b[92msoldier\u001b[0m is to \u001b[1m\u001b[92mcomrade\u001b[0m\n",
      "\u001b[1m\u001b[94mhe\u001b[0m is to \u001b[1m\u001b[94mshe\u001b[0m like \u001b[1m\u001b[92mprofessor\u001b[0m is to \u001b[1m\u001b[92msociologist\u001b[0m\n",
      "\u001b[1m\u001b[94mhe\u001b[0m is to \u001b[1m\u001b[94mshe\u001b[0m like \u001b[1m\u001b[92mdoctor\u001b[0m is to \u001b[1m\u001b[92mdermatologist\u001b[0m\n",
      "\u001b[1m\u001b[94mhe\u001b[0m is to \u001b[1m\u001b[94mshe\u001b[0m like \u001b[1m\u001b[92mcaptain\u001b[0m is to \u001b[1m\u001b[92mskipper\u001b[0m\n",
      "\u001b[1m\u001b[94mhe\u001b[0m is to \u001b[1m\u001b[94mshe\u001b[0m like \u001b[1m\u001b[92mcoach\u001b[0m is to \u001b[1m\u001b[92mcoaching\u001b[0m\n",
      "\n",
      "\u001b[1m\n",
      "Sorting...\u001b[0m\n"
     ]
    }
   ],
   "source": [
    "!cd ./code/analogies/ && python3 analogies.py --pairs_fname pairs_debiased_word2vec.txt --i_em ../../embeddings/debiased_word2vec.bin --pair_seed he-she --z_file z_words.json"
   ]
  },
  {
   "cell_type": "markdown",
   "metadata": {},
   "source": [
    "### Analogies original glove"
   ]
  },
  {
   "cell_type": "code",
   "execution_count": 11,
   "metadata": {},
   "outputs": [
    {
     "name": "stdout",
     "output_type": "stream",
     "text": [
      "/home/yovchev/miniconda3/envs/test/lib/python3.5/site-packages/smart_open/smart_open_lib.py:402: UserWarning: This function is deprecated, use smart_open.open instead. See the migration notes for details: https://github.com/RaRe-Technologies/smart_open/blob/master/README.rst#migrating-to-the-new-open-function\n",
      "  'See the migration notes for details: %s' % _MIGRATION_NOTES_URL\n",
      "analogies.py:109: RuntimeWarning: invalid value encountered in true_divide\n",
      "  analogies_dir = analogies/norms[:, None] # Directions\n",
      "\u001b[1m\u001b[94mhe\u001b[0m is to \u001b[1m\u001b[94mshe\u001b[0m like \u001b[1m\u001b[92mprogrammer\u001b[0m is to \u001b[1m\u001b[92mfreelance\u001b[0m\n",
      "\u001b[1m\u001b[94mhe\u001b[0m is to \u001b[1m\u001b[94mshe\u001b[0m like \u001b[1m\u001b[92msoldier\u001b[0m is to \u001b[1m\u001b[92mbrave\u001b[0m\n",
      "\u001b[1m\u001b[94mhe\u001b[0m is to \u001b[1m\u001b[94mshe\u001b[0m like \u001b[1m\u001b[92mprofessor\u001b[0m is to \u001b[1m\u001b[92mlibrarian\u001b[0m\n",
      "\u001b[1m\u001b[94mhe\u001b[0m is to \u001b[1m\u001b[94mshe\u001b[0m like \u001b[1m\u001b[92mdoctor\u001b[0m is to \u001b[1m\u001b[92mpregnant\u001b[0m\n",
      "\u001b[1m\u001b[94mhe\u001b[0m is to \u001b[1m\u001b[94mshe\u001b[0m like \u001b[1m\u001b[92mcaptain\u001b[0m is to \u001b[1m\u001b[92msailor\u001b[0m\n",
      "\u001b[1m\u001b[94mhe\u001b[0m is to \u001b[1m\u001b[94mshe\u001b[0m like \u001b[1m\u001b[92mcoach\u001b[0m is to \u001b[1m\u001b[92mvolleyball\u001b[0m\n",
      "\n",
      "\u001b[1m\n",
      "Sorting...\u001b[0m\n"
     ]
    }
   ],
   "source": [
    "!cd ./code/analogies/ && python3 analogies.py --pairs_fname pairs_bias_glove.txt --i_em ../../embeddings/bias_glove.bin --pair_seed he-she --z_file z_words.json"
   ]
  },
  {
   "cell_type": "markdown",
   "metadata": {},
   "source": [
    "### Analogies debiased glove"
   ]
  },
  {
   "cell_type": "code",
   "execution_count": 13,
   "metadata": {},
   "outputs": [
    {
     "name": "stdout",
     "output_type": "stream",
     "text": [
      "/home/yovchev/miniconda3/envs/test/lib/python3.5/site-packages/smart_open/smart_open_lib.py:402: UserWarning: This function is deprecated, use smart_open.open instead. See the migration notes for details: https://github.com/RaRe-Technologies/smart_open/blob/master/README.rst#migrating-to-the-new-open-function\n",
      "  'See the migration notes for details: %s' % _MIGRATION_NOTES_URL\n",
      "analogies.py:109: RuntimeWarning: invalid value encountered in true_divide\n",
      "  analogies_dir = analogies/norms[:, None] # Directions\n",
      "\u001b[1m\u001b[94mhe\u001b[0m is to \u001b[1m\u001b[94mshe\u001b[0m like \u001b[1m\u001b[92mprogrammer\u001b[0m is to \u001b[1m\u001b[92mprogrammers\u001b[0m\n",
      "\u001b[1m\u001b[94mhe\u001b[0m is to \u001b[1m\u001b[94mshe\u001b[0m like \u001b[1m\u001b[92msoldier\u001b[0m is to \u001b[1m\u001b[92mtroop\u001b[0m\n",
      "\u001b[1m\u001b[94mhe\u001b[0m is to \u001b[1m\u001b[94mshe\u001b[0m like \u001b[1m\u001b[92mprofessor\u001b[0m is to \u001b[1m\u001b[92mgrad\u001b[0m\n",
      "\u001b[1m\u001b[94mhe\u001b[0m is to \u001b[1m\u001b[94mshe\u001b[0m like \u001b[1m\u001b[92mdoctor\u001b[0m is to \u001b[1m\u001b[92mtherapist\u001b[0m\n",
      "\u001b[1m\u001b[94mhe\u001b[0m is to \u001b[1m\u001b[94mshe\u001b[0m like \u001b[1m\u001b[92mcaptain\u001b[0m is to \u001b[1m\u001b[92msailor\u001b[0m\n",
      "\u001b[1m\u001b[94mhe\u001b[0m is to \u001b[1m\u001b[94mshe\u001b[0m like \u001b[1m\u001b[92mcoach\u001b[0m is to \u001b[1m\u001b[92mcoaching\u001b[0m\n"
     ]
    }
   ],
   "source": [
    "!cd ./code/analogies/ && python3 analogies.py --pairs_fname pairs_debiased_glove.txt --i_em ../../embeddings/debiased_glove.bin --pair_seed he-she --z_file z_words.json"
   ]
  },
  {
   "cell_type": "markdown",
   "metadata": {},
   "source": [
    "## Testing Debiasing (Lipstick on a Pig)\n",
    "Besides generating analogies, we can also test the effects of debiasing quantitatively. For that we chose the classification task from the original paper, and extended it to run on 3 different classifiers (SVM-RBF, Logistic regression, MLP), iteratively expanding the size of the training set. The plot reports the average accuracies of 3 runs with different random seeds."
   ]
  },
  {
   "cell_type": "code",
   "execution_count": 14,
   "metadata": {},
   "outputs": [],
   "source": [
    "%matplotlib inline\n",
    "%matplotlib notebook\n",
    "\n",
    "import matplotlib.pyplot as plt\n",
    "import matplotlib\n",
    "import json\n",
    "import os \n"
   ]
  },
  {
   "cell_type": "code",
   "execution_count": 15,
   "metadata": {},
   "outputs": [],
   "source": [
    "def plot_results(results, embeddings, direction = \"horizontal\"):\n",
    "    ## plotting results\n",
    "    \n",
    "    splits = results[\"splits\"]\n",
    "    \n",
    "    if direction == \"horizontal\":\n",
    "        fig,a =\t plt.subplots(1, 3)\n",
    "        fig.set_figwidth(15)\n",
    "        plt.suptitle(\"Classification results - \" + embeddings)\n",
    "\n",
    "    else:\n",
    "        fig,a =\t plt.subplots(3)\n",
    "        fig.set_figheight(15)\n",
    "    a[0].set_title(\"Classification on original embeddings\")\n",
    "    a[0].set_xlabel('training data used (portion)')\n",
    "    a[0].set_ylabel('accuracy')\n",
    "    a[0].set_ylim(0.7, 1.05)\n",
    "    a[1].set_title(\"Classification on debiased embeddings\")\n",
    "    a[1].set_xlabel('training data used (portion)')\n",
    "    a[1].set_ylabel('accuracy')\n",
    "    a[1].set_ylim(0.7, 1.05)\n",
    "    a[2].set_title(\"Difference: original - debiased\")\n",
    "    a[2].set_xlabel('training data used (portion)')\n",
    "    a[2].set_ylabel('accuracy difference')\n",
    "    for accuracy in results[\"accuracies_bef\"]:\n",
    "        a[0].plot(splits, accuracy)\n",
    "    for accuracy in results[\"accuracies_aft\"]:\n",
    "        a[1].plot(splits, accuracy)\t \n",
    "    for accuracy in results[\"acc_diffs\"]:\n",
    "        a[2].plot(splits, accuracy)\n",
    "    plt.legend(results[\"classifier_names\"])\n",
    "    plt.show()"
   ]
  },
  {
   "cell_type": "markdown",
   "metadata": {},
   "source": [
    "### Word2Vec"
   ]
  },
  {
   "cell_type": "markdown",
   "metadata": {},
   "source": [
    "Run the classifiers with increasing data size (10 runs with different seeds)"
   ]
  },
  {
   "cell_type": "code",
   "execution_count": 16,
   "metadata": {
    "collapsed": true,
    "jupyter": {
     "outputs_hidden": true
    }
   },
   "outputs": [
    {
     "name": "stdout",
     "output_type": "stream",
     "text": [
      "/home/yovchev/miniconda3/envs/test/lib/python3.5/site-packages/smart_open/smart_open_lib.py:402: UserWarning: This function is deprecated, use smart_open.open instead. See the migration notes for details: https://github.com/RaRe-Technologies/smart_open/blob/master/README.rst#migrating-to-the-new-open-function\n",
      "  'See the migration notes for details: %s' % _MIGRATION_NOTES_URL\n",
      "Number of words:  26391\n",
      "Number of words:  26391\n",
      "loading done\n",
      "0.04705043832368228\n",
      "0.002165146608033974\n",
      "================SVM-RBF================\n",
      "^C\n"
     ]
    }
   ],
   "source": [
    "!cd ./code/lipstick/ && python3 classify_debiased.py --embeddings_original=../../embeddings/bias_word2vec.bin --embeddings_debiased=../../embeddings/debiased_word2vec.bin --fname=w2v"
   ]
  },
  {
   "cell_type": "markdown",
   "metadata": {},
   "source": [
    "Show accuracies"
   ]
  },
  {
   "cell_type": "code",
   "execution_count": 18,
   "metadata": {
    "collapsed": true,
    "jupyter": {
     "outputs_hidden": true
    },
    "scrolled": true
   },
   "outputs": [
    {
     "data": {
      "image/png": "[encoded data removed]",
      "text/plain": [
       "<Figure size 1080x288 with 3 Axes>"
      ]
     },
     "metadata": {
      "needs_background": "light"
     },
     "output_type": "display_data"
    }
   ],
   "source": [
    "file = open('./code/lipstick//results/results_w2v')\n",
    "results_js = file.read()\n",
    "results = json.loads(results_js)\n",
    "plot_results(results, \"word2vec\")"
   ]
  },
  {
   "cell_type": "markdown",
   "metadata": {},
   "source": [
    "### Glove"
   ]
  },
  {
   "cell_type": "markdown",
   "metadata": {},
   "source": [
    "Run the classifiers with increasing data size (10 runs with different seeds)"
   ]
  },
  {
   "cell_type": "code",
   "execution_count": 8,
   "metadata": {
    "collapsed": true,
    "jupyter": {
     "outputs_hidden": true
    }
   },
   "outputs": [
    {
     "name": "stdout",
     "output_type": "stream",
     "text": [
      "/home/balint/anaconda3/envs/fact/lib/python3.5/site-packages/smart_open/smart_open_lib.py:402: UserWarning: This function is deprecated, use smart_open.open instead. See the migration notes for details: https://github.com/RaRe-Technologies/smart_open/blob/master/README.rst#migrating-to-the-new-open-function\n",
      "  'See the migration notes for details: %s' % _MIGRATION_NOTES_URL\n",
      "Number of words:  23177\n",
      "Number of words:  23177\n",
      "loading done\n",
      "0.03978345670247133\n",
      "0.001312198020011841\n",
      "================SVM-RBF================\n",
      "classifier done\n",
      "================Logistic regression================\n",
      "classifier done\n",
      "================MLP================\n",
      "/home/balint/anaconda3/envs/fact/lib/python3.5/site-packages/sklearn/neural_network/multilayer_perceptron.py:564: ConvergenceWarning: Stochastic Optimizer: Maximum iterations (200) reached and the optimization hasn't converged yet.\n",
      "  % self.max_iter, ConvergenceWarning)\n",
      "classifier done\n",
      "Figure(1500x480)\n"
     ]
    }
   ],
   "source": [
    "!cd ./code/lipstick/ && python3 classify_debiased.py --embeddings_original=../../embeddings/bias_glove.bin --embeddings_debiased=../../embeddings/debiased_glove.bin --fname=glove"
   ]
  },
  {
   "cell_type": "markdown",
   "metadata": {},
   "source": [
    "Show accuracies"
   ]
  },
  {
   "cell_type": "code",
   "execution_count": 9,
   "metadata": {
    "collapsed": true,
    "jupyter": {
     "outputs_hidden": true
    },
    "scrolled": true
   },
   "outputs": [
    {
     "data": {
      "image/png": "[encoded data removed]",
      "text/plain": [
       "<Figure size 1080x288 with 3 Axes>"
      ]
     },
     "metadata": {
      "needs_background": "light"
     },
     "output_type": "display_data"
    }
   ],
   "source": [
    "file = open('./code/lipstick//results/results_glove')\n",
    "results_js = file.read()\n",
    "results = json.loads(results_js)\n",
    "plot_results(results, \"glove\")"
   ]
  },
  {
   "cell_type": "markdown",
   "metadata": {},
   "source": [
    "### Removing remaining bias\n",
    "To remove the subtle bias from the original embeddings, we run the debiasing again, but instead of selecting a single principal component for the subspace, we select all available (18) components and neutralize according to that"
   ]
  },
  {
   "cell_type": "markdown",
   "metadata": {},
   "source": [
    "debiasing using all components:"
   ]
  },
  {
   "cell_type": "code",
   "execution_count": 17,
   "metadata": {},
   "outputs": [
    {
     "name": "stdout",
     "output_type": "stream",
     "text": [
      "*** Reading data from ../embeddings/GoogleNews-vectors-negative300.bin\n",
      "Number of words:  26391\n",
      "Saving biased vectors to file...\n",
      "\n",
      "\u001b[1m\u001b[31m   Before debiasing\u001b[0m\n",
      "\u001b[1m\u001b[94m\t  softball extreme        \tfootball extreme\u001b[0m\n",
      "\u001b[1m1.\u001b[0m bookkeeper             \tfootballer\n",
      "\u001b[1m2.\u001b[0m receptionist           \tbusinessman\n",
      "\u001b[1m3.\u001b[0m registered_nurse       \tpundit\n",
      "\u001b[1m4.\u001b[0m waitress               \tmaestro\n",
      "\u001b[1m5.\u001b[0m homemaker              \tcleric\n",
      "\n",
      "\n",
      "Debiasing...\n",
      "Saving debiased vectors to file...\n",
      "\n",
      "\u001b[1m\u001b[92m\t After debiasing\u001b[0m\n",
      "\u001b[1m\u001b[94m\t  softball extreme        \tfootball extreme\u001b[0m\n",
      "\u001b[1m1.\u001b[0m infielder              \tfootballer\n",
      "\u001b[1m2.\u001b[0m investigator           \tlecturer\n",
      "\u001b[1m3.\u001b[0m major_leaguer          \tfashion_designer\n",
      "\u001b[1m4.\u001b[0m trooper                \tmidfielder\n",
      "\u001b[1m5.\u001b[0m attorney               \tpundit\n",
      "\n",
      "\n",
      "Done!\n",
      "\n"
     ]
    }
   ],
   "source": [
    "!cd code && python3 main.py --debias_o_em=../embeddings/debiased_word2vec_all_pca.bin --bias_o_em=../embeddings/bias_word2vec_all_pca.bin --load_profs=True --n_comp=18"
   ]
  },
  {
   "cell_type": "markdown",
   "metadata": {},
   "source": [
    "Benchmarking"
   ]
  },
  {
   "cell_type": "code",
   "execution_count": null,
   "metadata": {},
   "outputs": [],
   "source": [
    "!CWD=$(pwd) && cd ./code/benchmark/scripts && python3 evaluate_on_all.py -f $CWD/embeddings/debiased_word2vec_all_pca.bin"
   ]
  },
  {
   "cell_type": "markdown",
   "metadata": {},
   "source": [
    "Running the classification experiment with the new debiased embeddings"
   ]
  },
  {
   "cell_type": "code",
   "execution_count": 19,
   "metadata": {},
   "outputs": [
    {
     "name": "stdout",
     "output_type": "stream",
     "text": [
      "/home/balint/anaconda3/envs/fact/lib/python3.5/site-packages/smart_open/smart_open_lib.py:402: UserWarning: This function is deprecated, use smart_open.open instead. See the migration notes for details: https://github.com/RaRe-Technologies/smart_open/blob/master/README.rst#migrating-to-the-new-open-function\n",
      "  'See the migration notes for details: %s' % _MIGRATION_NOTES_URL\n",
      "Number of words:  26391\n",
      "Number of words:  26391\n",
      "loading done\n",
      "0.0470504383259408\n",
      "0.002336798854251666\n",
      "================SVM-RBF================\n",
      "classifier done\n",
      "================Logistic regression================\n",
      "classifier done\n",
      "================MLP================\n",
      "/home/balint/anaconda3/envs/fact/lib/python3.5/site-packages/sklearn/neural_network/multilayer_perceptron.py:564: ConvergenceWarning: Stochastic Optimizer: Maximum iterations (200) reached and the optimization hasn't converged yet.\n",
      "  % self.max_iter, ConvergenceWarning)\n",
      "classifier done\n",
      "Figure(1500x480)\n"
     ]
    }
   ],
   "source": [
    "!cd ./code/lipstick/ && python3 classify_debiased.py --embeddings_original=../../embeddings/bias_word2vec_all_pca.bin --embeddings_debiased=../../embeddings/debiased_word2vec_all_pca.bin --fname=w2v_all_pca"
   ]
  },
  {
   "cell_type": "markdown",
   "metadata": {},
   "source": [
    "Showing classification results"
   ]
  },
  {
   "cell_type": "code",
   "execution_count": 20,
   "metadata": {},
   "outputs": [
    {
     "data": {
      "image/png": "[encoded data removed]",
      "text/plain": [
       "<Figure size 1080x288 with 3 Axes>"
      ]
     },
     "metadata": {
      "needs_background": "light"
     },
     "output_type": "display_data"
    }
   ],
   "source": [
    "file = open('./code/lipstick//results/results_w2v_all_pca')\n",
    "results_js = file.read()\n",
    "results = json.loads(results_js)\n",
    "plot_results(results, \"word2vec - all principal components\")"
   ]
  },
  {
   "cell_type": "markdown",
   "metadata": {},
   "source": [
    "Comparing classification performance of 1-component debiasing and 18-component debiasing"
   ]
  },
  {
   "cell_type": "code",
   "execution_count": 25,
   "metadata": {},
   "outputs": [
    {
     "data": {
      "image/png": "[encoded data removed]",
      "text/plain": [
       "<Figure size 432x288 with 1 Axes>"
      ]
     },
     "metadata": {
      "needs_background": "light"
     },
     "output_type": "display_data"
    }
   ],
   "source": [
    "file = open('./code/lipstick//results/results_w2v')\n",
    "results_js = file.read()\n",
    "results_1 = json.loads(results_js)\n",
    "\n",
    "file = open('./code/lipstick//results/results_w2v_all_pca')\n",
    "results_js = file.read()\n",
    "results_all = json.loads(results_js)\n",
    "\n",
    "splits = results_all[\"splits\"]\n",
    "plt.title(\"Accuracy after debiasing using different size of gender subspace\")\n",
    "plt.plot(splits, results_1[\"accuracies_aft\"][1], label = \"1D gender space\")\n",
    "plt.plot(splits, results_all[\"accuracies_aft\"][1], label = \"18D gender space\" )\n",
    "plt.legend([\"1D gender space\", \"18D gender space\"])\n",
    "plt.xlabel('training data used (portion)')\n",
    "plt.ylabel('accuracy')\n",
    "\n",
    "plt.show()\n"
   ]
  }
 ],
 "metadata": {
  "kernelspec": {
   "display_name": "Python 3",
   "language": "python",
   "name": "python3"
  },
  "language_info": {
   "codemirror_mode": {
    "name": "ipython",
    "version": 3
   },
   "file_extension": ".py",
   "mimetype": "text/x-python",
   "name": "python",
   "nbconvert_exporter": "python",
   "pygments_lexer": "ipython3",
   "version": "3.7.6"
  }
 },
 "nbformat": 4,
 "nbformat_minor": 4
}
